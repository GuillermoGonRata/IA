{
 "cells": [
  {
   "cell_type": "markdown",
   "metadata": {},
   "source": [
    "# Análisis de Datos del Conjunto de Correos Electrónicos\n",
    "\n",
    "En este notebook, exploraremos el conjunto de datos de correos electrónicos para identificar patrones y obtener información relacionada con correos spam y legítimos. Realizaremos análisis estadísticos y visualizaciones para comprender mejor las características de los correos spam."
   ]
  },
  {
   "cell_type": "code",
   "execution_count": null,
   "metadata": {},
   "outputs": [],
   "source": [
    "import pandas as pd\n",
    "import matplotlib.pyplot as plt\n",
    "import seaborn as sns\n",
    "\n",
    "# Configurar el estilo de las visualizaciones\n",
    "sns.set(style='whitegrid')"
   ]
  },
  {
   "cell_type": "code",
   "execution_count": null,
   "metadata": {},
   "outputs": [],
   "source": [
    "# Importar las librerías necesarias\n",
    "import pandas as pd\n",
    "import matplotlib.pyplot as plt\n",
    "import seaborn as sns\n",
    "\n",
    "# Asignar un estilo a las visualizaciones\n",
    "sns.set(style='whitegrid')"
   ]
  },
  {
   "cell_type": "code",
   "execution_count": null,
   "metadata": {},
   "outputs": [],
   "source": [
    "# Cargar el conjunto de datos\n",
    "data_path = '../data/emails.csv'\n",
    "emails_df = pd.read_csv(data_path)\n",
    "\n",
    "# Mostrar las primeras filas del conjunto de datos\n",
    "emails_df.head()"
   ]
  },
  {
   "cell_type": "code",
   "execution_count": null,
   "metadata": {},
   "outputs": [],
   "source": [
    "# checar la distribución de la variable objetivo 'es_spam'\n",
    "plt.figure(figsize=(8, 5))\n",
    "sns.countplot(x='es_spam', data=emails_df)\n",
    "plt.title('Distribution of Spam and Legitimate Emails')\n",
    "plt.xlabel('Is Spam (1 = Yes, 0 = No)')\n",
    "plt.ylabel('Count')\n",
    "plt.xticks(ticks=[0, 1], labels=['Legitimate', 'Spam'])\n",
    "plt.show()"
   ]
  },
  {
   "cell_type": "code",
   "execution_count": null,
   "metadata": {},
   "outputs": [],
   "source": [
    "# análisis de la longitud del correo electrónico\n",
    "from wordcloud import WordCloud\n",
    "\n",
    "spam_emails = emails_df[emails_df['es_spam'] == 1]\n",
    "spam_text = ' '.join(spam_emails['contenido'])\n",
    "\n",
    "wordcloud = WordCloud(width=800, height=400, background_color='white').generate(spam_text)\n",
    "\n",
    "plt.figure(figsize=(10, 5))\n",
    "plt.imshow(wordcloud, interpolation='bilinear')\n",
    "plt.axis('off')\n",
    "plt.title('Word Cloud of Spam Emails')\n",
    "plt.show()"
   ]
  },
  {
   "cell_type": "code",
   "execution_count": null,
   "metadata": {},
   "outputs": [],
   "source": [
    "# análisis de las líneas de asunto más comunes\n",
    "plt.figure(figsize=(12, 6))\n",
    "sns.countplot(y='asunto', hue='es_spam', data=emails_df, order=emails_df['asunto'].value_counts().index[:10])\n",
    "plt.title('Top 10 Subject Lines by Spam Classification')\n",
    "plt.xlabel('Count')\n",
    "plt.ylabel('Subject Line')\n",
    "plt.legend(title='Is Spam', loc='upper right', labels=['Legitimate', 'Spam'])\n",
    "plt.show()"
   ]
  },
  {
   "cell_type": "code",
   "execution_count": null,
   "metadata": {},
   "outputs": [],
   "source": [
    "# guardar el conjunto de datos limpio\n",
    "emails_df.to_csv('../data/cleaned_emails.csv', index=False)\n",
    "print('Cleaned dataset saved as cleaned_emails.csv')"
   ]
  }
 ],
 "metadata": {
  "kernelspec": {
   "display_name": "Python 3",
   "language": "python",
   "name": "python3"
  },
  "language_info": {
   "codemirror_mode": {
    "name": "ipython",
    "version": 3
   },
   "file_extension": ".py",
   "mimetype": "text/x-python",
   "name": "python",
   "nbconvert_exporter": "python",
   "pygments_lexer": "ipython3",
   "version": "3.8.5"
  }
 },
 "nbformat": 4,
 "nbformat_minor": 4
}
