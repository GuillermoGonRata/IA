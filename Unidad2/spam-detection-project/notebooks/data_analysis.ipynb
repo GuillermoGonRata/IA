{
 "cells": [
  {
   "cell_type": "markdown",
   "metadata": {},
   "source": [
    "# Data Analysis of Email Dataset\n",
    "\n",
    "In this notebook, we will explore the email dataset to identify patterns and insights related to spam and legitimate emails. We will perform statistical analyses and visualizations to better understand the characteristics of spam emails."
   ]
  },
  {
   "cell_type": "code",
   "execution_count": 1,
   "metadata": {},
   "outputs": [],
   "source": [
    "# Import necessary libraries\n",
    "import pandas as pd\n",
    "import matplotlib.pyplot as plt\n",
    "import seaborn as sns\n",
    "\n",
    "# Set visualization style\n",
    "sns.set(style='whitegrid')"
   ]
  },
  {
   "cell_type": "code",
   "execution_count": 2,
   "metadata": {},
   "outputs": [],
   "source": [
    "# Load the dataset\n",
    "data_path = '../data/emails.csv'\n",
    "emails_df = pd.read_csv(data_path)\n",
    "\n",
    "# Display the first few rows of the dataset\n",
    "emails_df.head()"
   ]
  },
  {
   "cell_type": "code",
   "execution_count": 3,
   "metadata": {},
   "outputs": [],
   "source": [
    "# Check the distribution of spam and legitimate emails\n",
    "plt.figure(figsize=(8, 5))\n",
    "sns.countplot(x='es_spam', data=emails_df)\n",
    "plt.title('Distribution of Spam and Legitimate Emails')\n",
    "plt.xlabel('Is Spam (1 = Yes, 0 = No)')\n",
    "plt.ylabel('Count')\n",
    "plt.xticks(ticks=[0, 1], labels=['Legitimate', 'Spam'])\n",
    "plt.show()"
   ]
  },
  {
   "cell_type": "code",
   "execution_count": 4,
   "metadata": {},
   "outputs": [],
   "source": [
    "# Analyze the most common words in spam emails\n",
    "from wordcloud import WordCloud\n",
    "\n",
    "spam_emails = emails_df[emails_df['es_spam'] == 1]\n",
    "spam_text = ' '.join(spam_emails['contenido'])\n",
    "\n",
    "wordcloud = WordCloud(width=800, height=400, background_color='white').generate(spam_text)\n",
    "\n",
    "plt.figure(figsize=(10, 5))\n",
    "plt.imshow(wordcloud, interpolation='bilinear')\n",
    "plt.axis('off')\n",
    "plt.title('Word Cloud of Spam Emails')\n",
    "plt.show()"
   ]
  },
  {
   "cell_type": "code",
   "execution_count": 5,
   "metadata": {},
   "outputs": [],
   "source": [
    "# Analyze the relationship between subject lines and spam classification\n",
    "plt.figure(figsize=(12, 6))\n",
    "sns.countplot(y='asunto', hue='es_spam', data=emails_df, order=emails_df['asunto'].value_counts().index[:10])\n",
    "plt.title('Top 10 Subject Lines by Spam Classification')\n",
    "plt.xlabel('Count')\n",
    "plt.ylabel('Subject Line')\n",
    "plt.legend(title='Is Spam', loc='upper right', labels=['Legitimate', 'Spam'])\n",
    "plt.show()"
   ]
  },
  {
   "cell_type": "code",
   "execution_count": 6,
   "metadata": {},
   "outputs": [],
   "source": [
    "# Save the cleaned dataset for further analysis\n",
    "emails_df.to_csv('../data/cleaned_emails.csv', index=False)\n",
    "print('Cleaned dataset saved as cleaned_emails.csv')"
   ]
  }
 ],
 "metadata": {
  "kernelspec": {
   "display_name": "Python 3",
   "language": "python",
   "name": "python3"
  },
  "language_info": {
   "codemirror_mode": {
    "name": "ipython",
    "version": 3
   },
   "file_extension": ".py",
   "mimetype": "text/x-python",
   "name": "python",
   "nbconvert_exporter": "python",
   "pygments_lexer": "ipython3",
   "version": "3.8.5"
  }
 },
 "nbformat": 4,
 "nbformat_minor": 4
}